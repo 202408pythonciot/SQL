{
  "nbformat": 4,
  "nbformat_minor": 0,
  "metadata": {
    "colab": {
      "provenance": []
    },
    "kernelspec": {
      "name": "python3",
      "display_name": "Python 3"
    },
    "language_info": {
      "name": "python"
    }
  },
  "cells": [
    {
      "cell_type": "markdown",
      "source": [
        "# 演習７～１３"
      ],
      "metadata": {
        "id": "pbGKX2CwMWue"
      }
    },
    {
      "cell_type": "markdown",
      "source": [
        "[Google Colaboratoryで開く](https://colab.research.google.com/github/202408pythonciot/SQL/blob/main/Google_Colab/exercises_07_to_13.ipynb)\n",
        "\n",
        "<a target=\"_blank\" href=\"https://colab.research.google.com/github/202408pythonciot/SQL/blob/main/Google_Colab/exercises_07_to_13.ipynb\">\n",
        "  <img src=\"https://colab.research.google.com/assets/colab-badge.svg\" alt=\"Open In Colab\"/>\n",
        "</a>"
      ],
      "metadata": {
        "id": "epstO-oSMbJd"
      }
    },
    {
      "cell_type": "markdown",
      "source": [
        "**sqliteをロード**"
      ],
      "metadata": {
        "id": "xSNv4LUuxvwU"
      }
    },
    {
      "cell_type": "code",
      "execution_count": null,
      "metadata": {
        "id": "XN6B8fB2xqpe"
      },
      "outputs": [],
      "source": [
        "%reload_ext sql\n",
        "%sql sqlite:///:memory:"
      ]
    },
    {
      "cell_type": "markdown",
      "source": [
        "**t_salesテーブル（車内販売表）**を作成"
      ],
      "metadata": {
        "id": "k8dtwRupx0OD"
      }
    },
    {
      "cell_type": "code",
      "source": [
        "%%sql\n",
        "DROP TABLE IF EXISTS t_sales;\n",
        "CREATE TABLE t_sales (\n",
        "\tsales_id\t\t INTEGER,\n",
        "\tstaff_name\t TEXT NOT NULL,\n",
        "\tcategory\t\t TEXT NOT NULL,\n",
        "\titem\t\t TEXT NOT NULL,\n",
        "\tprice\t\t INTEGER NOT NULL,\n",
        "\tPRIMARY KEY(\"sales_id\")\n",
        ");\n",
        "INSERT INTO t_sales VALUES (1, '吉田 千代', 'アルコール', '日本酒', 600);\n",
        "INSERT INTO t_sales VALUES (2, '吉田 千代', '軽食', 'ツナサンド', 200);\n",
        "INSERT INTO t_sales VALUES (3, '吉田 千代', '軽食', 'おにぎりセット', 420);\n",
        "INSERT INTO t_sales VALUES (4, '吉田 千代', 'スナック', 'チョコレート', 300);\n",
        "INSERT INTO t_sales VALUES (5, '浜田 美香', 'アルコール', 'ビール', 200);\n",
        "INSERT INTO t_sales VALUES (6, '浜田 美香', '軽食', 'ツナサンド', 200);\n",
        "INSERT INTO t_sales VALUES (7, '斉藤 和夫', 'スナック', 'まんじゅう', 200);\n",
        "INSERT INTO t_sales VALUES (8, '斉藤 和夫', 'アルコール', 'ビール', 200);\n",
        "INSERT INTO t_sales VALUES (9, '吉田 千代', '軽食', 'おにぎりセット', 420);\n",
        "INSERT INTO t_sales VALUES (10, '浜田 美香', '軽食', 'ツナサンド', 200);\n",
        "INSERT INTO t_sales VALUES (11, '吉田 千代', 'アルコール', '日本酒', 600);\n",
        "INSERT INTO t_sales VALUES (12, '吉田 千代', 'アルコール', '日本酒', 600);\n",
        "INSERT INTO t_sales VALUES (13, '斉藤 和夫', '軽食', 'おにぎりセット', 420);\n",
        "INSERT INTO t_sales VALUES (14, '吉田 千代', 'スナック', 'まんじゅう', 200);\n",
        "INSERT INTO t_sales VALUES (15, '浜田 美香', 'スナック', 'チョコレート', 300);\n",
        "INSERT INTO t_sales VALUES (16, '斉藤 和夫', '軽食', 'ツナサンド', 200);\n",
        "INSERT INTO t_sales VALUES (17, '吉田 千代', 'スナック', 'まんじゅう', 200);\n",
        "INSERT INTO t_sales VALUES (18, '浜田 美香', 'スナック', 'チョコレート', 300);\n",
        "INSERT INTO t_sales VALUES (19, '浜田 美香', 'アルコール', 'ビール', 200);\n",
        "INSERT INTO t_sales VALUES (20, '斉藤 和夫', 'スナック', 'チョコレート', 300);\n",
        "INSERT INTO t_sales VALUES (21, '斉藤 和夫', 'スナック', 'まんじゅう', 200);\n",
        "INSERT INTO t_sales VALUES (22, '吉田 千代', '軽食', 'ツナサンド', 200);\n",
        "INSERT INTO t_sales VALUES (23, '斉藤 和夫', 'アルコール', '日本酒', 600);\n",
        "INSERT INTO t_sales VALUES (24, '吉田 千代', '軽食', 'おにぎりセット', 420);\n",
        "INSERT INTO t_sales VALUES (25, '斉藤 和夫', 'アルコール', 'ビール', 200);\n",
        "INSERT INTO t_sales VALUES (26, '吉田 千代', 'スナック', 'まんじゅう', 200);\n",
        "INSERT INTO t_sales VALUES (27, '斉藤 和夫', '軽食', 'おにぎりセット', 420);\n",
        "INSERT INTO t_sales VALUES (28, '吉田 千代', 'アルコール', 'ビール', 200);\n",
        "INSERT INTO t_sales VALUES (29, '浜田 美香', 'アルコール', 'ビール', 200);\n",
        "INSERT INTO t_sales VALUES (30, '斉藤 和夫', '軽食', 'ツナサンド', 200);\n"
      ],
      "metadata": {
        "id": "Lx3URcYQxzwE"
      },
      "execution_count": null,
      "outputs": []
    },
    {
      "cell_type": "markdown",
      "source": [
        "**演習７**\n",
        "t_sales表からpriceの合計を照会"
      ],
      "metadata": {
        "id": "W6jI_bmGxzYj"
      }
    },
    {
      "cell_type": "code",
      "source": [
        "%%sql\n",
        "SELECT SUM(price) FROM t_sales;"
      ],
      "metadata": {
        "id": "PWK1Kbe767vx"
      },
      "execution_count": null,
      "outputs": []
    },
    {
      "cell_type": "markdown",
      "source": [
        "**演習８**\n",
        "t_sales表からpriceの合計をitemごとに照会"
      ],
      "metadata": {
        "id": "eqcSxwHR68Ew"
      }
    },
    {
      "cell_type": "code",
      "source": [
        "%%sql\n",
        "SELECT item, SUM(price) FROM t_sales GROUP BY item;\n"
      ],
      "metadata": {
        "id": "FbiOqmtM7Btf"
      },
      "execution_count": null,
      "outputs": []
    },
    {
      "cell_type": "markdown",
      "source": [
        "**演習９**\n",
        "t_sales表からstaff_nameごとの行数を照会"
      ],
      "metadata": {
        "id": "9CzvU3xl7OCY"
      }
    },
    {
      "cell_type": "code",
      "source": [
        "%%sql\n",
        "SELECT staff_name, COUNT(*) FROM t_sales GROUP BY staff_name;"
      ],
      "metadata": {
        "id": "8EYhqxXA7X44"
      },
      "execution_count": null,
      "outputs": []
    },
    {
      "cell_type": "markdown",
      "source": [
        "**演習１０**\n",
        "t_sales表からstaff_nameごとの行数とpriceの合計を照会"
      ],
      "metadata": {
        "id": "lwrsY_zt7bJq"
      }
    },
    {
      "cell_type": "code",
      "source": [
        "%%sql\n",
        "SELECT staff_name,COUNT(*), sum(price) FROM t_sales GROUP BY staff_name;"
      ],
      "metadata": {
        "id": "Pob7Xv1a7jAR"
      },
      "execution_count": null,
      "outputs": []
    },
    {
      "cell_type": "markdown",
      "source": [
        "**演習１１**\n",
        "t_sales表からstaff_nameごとの行数とpriceの合計を照会"
      ],
      "metadata": {
        "id": "NbNDtn8t7m6I"
      }
    },
    {
      "cell_type": "code",
      "source": [
        "%%sql\n",
        "SELECT category, COUNT(*),sum(price) FROM t_sales GROUP BY category;"
      ],
      "metadata": {
        "id": "ie2FD3Lk7qrh"
      },
      "execution_count": null,
      "outputs": []
    },
    {
      "cell_type": "markdown",
      "source": [
        "**演習１２**\n",
        "t_sales表からstaff_nameが'斉藤 和夫'である行を、itemごとにpriceの合計を照会"
      ],
      "metadata": {
        "id": "HdDurT3r7s-R"
      }
    },
    {
      "cell_type": "code",
      "source": [
        "%%sql\n",
        "SELECT staff_name, item, sum(price) FROM t_sales WHERE staff_name = '斉藤 和夫' GROUP BY item;"
      ],
      "metadata": {
        "id": "anL2fGY977Jh"
      },
      "execution_count": null,
      "outputs": []
    },
    {
      "cell_type": "markdown",
      "source": [
        "**演習１３**\n",
        "t_sales表から'おにぎりセット'の販売額の降順にstaff_nameを降順に照会"
      ],
      "metadata": {
        "id": "Vxkf8wqI79s4"
      }
    },
    {
      "cell_type": "code",
      "source": [
        "%%sql\n",
        "SELECT staff_name, item, SUM(price) FROM t_sales WHERE item = 'おにぎりセット' GROUP BY staff_name;"
      ],
      "metadata": {
        "id": "5iayGBru8Azg"
      },
      "execution_count": null,
      "outputs": []
    }
  ]
}