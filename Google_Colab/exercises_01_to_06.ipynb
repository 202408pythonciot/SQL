{
  "nbformat": 4,
  "nbformat_minor": 0,
  "metadata": {
    "colab": {
      "provenance": []
    },
    "kernelspec": {
      "name": "python3",
      "display_name": "Python 3"
    },
    "language_info": {
      "name": "python"
    }
  },
  "cells": [
    {
      "cell_type": "markdown",
      "source": [
        "# 演習１～６\n"
      ],
      "metadata": {
        "id": "DCWlrCsWIG9m"
      }
    },
    {
      "cell_type": "markdown",
      "source": [
        "[Google Colaboratoryで開く](https://colab.research.google.com/github/202408pythonciot/SQL/blob/main/Google_Colab/exercises_01_to_06.ipynb)\n",
        "\n",
        "<a target=\"_blank\" href=\"https://colab.research.google.com/github/202408pythonciot/SQL/blob/main/Google_Colab/exercises_01_to_06.ipynb\">\n",
        "  <img src=\"https://colab.research.google.com/assets/colab-badge.svg\" alt=\"Open In Colab\"/>\n",
        "</a>"
      ],
      "metadata": {
        "id": "Czm_8ICJJfc5"
      }
    },
    {
      "cell_type": "markdown",
      "source": [
        "**sqliteをロード**"
      ],
      "metadata": {
        "id": "KfIpyX3tst4v"
      }
    },
    {
      "cell_type": "code",
      "execution_count": null,
      "metadata": {
        "id": "nMEXbJEThkHI"
      },
      "outputs": [],
      "source": [
        "%reload_ext sql\n",
        "%sql sqlite:///:memory:\n"
      ]
    },
    {
      "cell_type": "markdown",
      "source": [
        "**employeeテーブル（従業員表）**を作成"
      ],
      "metadata": {
        "id": "XxEOGD7jsshW"
      }
    },
    {
      "cell_type": "code",
      "source": [
        "%%sql\n",
        "DROP TABLE IF EXISTS employee;\n",
        "CREATE TABLE \"employee\" (\n",
        "\t\"employee_id\"\tINTEGER,\t\t-- 従業員番号\n",
        "\t\"name\"\t\tTEXT NOT NULL,\t-- 氏名\n",
        "\t\"mail\"\t\tTEXT,\t\t-- メールアドレス\n",
        "\t\"hire_date\"\tDATE,\t\t-- 入社日\n",
        "\t\"salary\"\t\tINTEGER,\t\t-- 月給\n",
        "\t\"dept_id\"\tINTEGER,\t\t-- 所属部門番号\n",
        "\tPRIMARY KEY(\"employee_id\")\n",
        ");\n",
        "-- 従業員データ\n",
        "INSERT INTO employee VALUES(1,'梅津 玲那','umedu_rena@example.com','1987-07-03',452000,2);\n",
        "INSERT INTO employee VALUES(2,'米谷 朝陽','yoneya_asahi@example.com','1990-10-01',428280,3);\n",
        "INSERT INTO employee VALUES(3,'古田 沙知絵','furuta_sachie@example.com','1991-02-26',425320,4);\n",
        "INSERT INTO employee VALUES(4,'細川 ちえみ','hosokawa_chiemi@example.com','2002-11-25',339520,4);\n",
        "INSERT INTO employee VALUES(5,'宇田川 雅紀','utagawa_masanori@example.com','2002-12-28',338860,5);\n",
        "INSERT INTO employee VALUES(6,'柴山 恭子','shibayama_kyouko@example.com','2008-06-04',299160,3);\n",
        "INSERT INTO employee VALUES(7,'竹下 明日','takeshita_meibi@example.com','2019-08-12',217440,5);\n",
        "INSERT INTO employee VALUES(8,'下山 草太','shimoyama_souta@example.com','2021-01-02',207260,NULL);"
      ],
      "metadata": {
        "id": "OLE6t5oKtAhG"
      },
      "execution_count": null,
      "outputs": []
    },
    {
      "cell_type": "markdown",
      "source": [
        "**演習１**\n",
        "employee表をすべて照会\n",
        "\n"
      ],
      "metadata": {
        "id": "dZlyFU_rtLyq"
      }
    },
    {
      "cell_type": "code",
      "source": [
        "%%sql\n",
        "SELECT * FROM employee;"
      ],
      "metadata": {
        "id": "_ZEg8x9itRNG"
      },
      "execution_count": null,
      "outputs": []
    },
    {
      "cell_type": "markdown",
      "source": [
        "**演習２**\n",
        "employee表から、nameとdept_idを照会"
      ],
      "metadata": {
        "id": "NODMStmjtu72"
      }
    },
    {
      "cell_type": "code",
      "source": [
        "%%sql\n",
        "SELECT name, dept_id FROM employee;"
      ],
      "metadata": {
        "id": "E1wBbAkVt5d4"
      },
      "execution_count": null,
      "outputs": []
    },
    {
      "cell_type": "markdown",
      "source": [
        "**演習３**\n",
        "employee表から、employee_idの降順ですべての列を照会"
      ],
      "metadata": {
        "id": "gBa4cwtruAJX"
      }
    },
    {
      "cell_type": "code",
      "source": [
        "%%sql\n",
        "SELECT * FROM employee ORDER BY employee_id DESC;"
      ],
      "metadata": {
        "id": "5e_mXrKxuIKw"
      },
      "execution_count": null,
      "outputs": []
    },
    {
      "cell_type": "markdown",
      "source": [
        "**演習４**\n",
        "employee表から、salaryが400000以上であり、かつdept_idが3である行のnameを照会"
      ],
      "metadata": {
        "id": "8uMZC0wwuMMl"
      }
    },
    {
      "cell_type": "code",
      "source": [
        "%%sql\n",
        "SELECT name FROM employee WHERE salary >= 400000 AND dept_id = 3;"
      ],
      "metadata": {
        "id": "0DE3UieAuXVF"
      },
      "execution_count": null,
      "outputs": []
    },
    {
      "cell_type": "markdown",
      "source": [
        "**演習５**\n",
        "employee表から、salaryが250000以上349999以下である行のnameとsalaryを二通りで照会"
      ],
      "metadata": {
        "id": "hv861q9UuhGg"
      }
    },
    {
      "cell_type": "markdown",
      "source": [
        "方法１"
      ],
      "metadata": {
        "id": "XwCVU0utu152"
      }
    },
    {
      "cell_type": "code",
      "source": [
        "%%sql\n",
        "SELECT name, salary FROM employee WHERE salary >= 250000 AND salary <= 349999;"
      ],
      "metadata": {
        "id": "md3mLD8tu3SY"
      },
      "execution_count": null,
      "outputs": []
    },
    {
      "cell_type": "markdown",
      "source": [
        "方法２"
      ],
      "metadata": {
        "id": "uZ1Wb9zNu3qt"
      }
    },
    {
      "cell_type": "code",
      "source": [
        "%%sql\n",
        "SELECT name, salary FROM employee WHERE salary BETWEEN 250000 AND 349999;"
      ],
      "metadata": {
        "id": "I05FUPbxu4vF"
      },
      "execution_count": null,
      "outputs": []
    },
    {
      "cell_type": "markdown",
      "source": [
        "**演習６**\n",
        "employee表から、苗字が三文字である行を照会"
      ],
      "metadata": {
        "id": "kK0dVybeu-gt"
      }
    },
    {
      "cell_type": "code",
      "source": [
        "%%sql\n",
        "SELECT * FROM employee WHERE name LIKE '___ %';"
      ],
      "metadata": {
        "id": "7OI22pCrvIKe"
      },
      "execution_count": null,
      "outputs": []
    }
  ]
}
