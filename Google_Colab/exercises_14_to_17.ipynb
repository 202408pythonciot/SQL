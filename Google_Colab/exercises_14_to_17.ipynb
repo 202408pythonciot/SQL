{
  "nbformat": 4,
  "nbformat_minor": 0,
  "metadata": {
    "colab": {
      "provenance": []
    },
    "kernelspec": {
      "name": "python3",
      "display_name": "Python 3"
    },
    "language_info": {
      "name": "python"
    }
  },
  "cells": [
    {
      "cell_type": "markdown",
      "source": [
        "# 演習１４～１７"
      ],
      "metadata": {
        "id": "DUMJGoGYOqR_"
      }
    },
    {
      "cell_type": "markdown",
      "source": [
        "[Google Colaboratoryで開く](https://colab.research.google.com/github/202408pythonciot/SQL/blob/main/Google_Colab/exercises_14_to_17.ipynb)\n",
        "\n",
        "<a target=\"_blank\" href=\"https://colab.research.google.com/github/202408pythonciot/SQL/blob/main/Google_Colab/exercises_14_to_17.ipynb\">\n",
        "  <img src=\"https://colab.research.google.com/assets/colab-badge.svg\" alt=\"Open In Colab\"/>\n",
        "</a>"
      ],
      "metadata": {
        "id": "QT86ceydOsLn"
      }
    },
    {
      "cell_type": "markdown",
      "source": [
        "**sqliteをロード**"
      ],
      "metadata": {
        "id": "xSNv4LUuxvwU"
      }
    },
    {
      "cell_type": "code",
      "execution_count": null,
      "metadata": {
        "id": "XN6B8fB2xqpe"
      },
      "outputs": [],
      "source": [
        "%reload_ext sql\n",
        "%sql sqlite:///:memory:"
      ]
    },
    {
      "cell_type": "markdown",
      "source": [
        "**t_employeeテーブル（従業員表）**を作成"
      ],
      "metadata": {
        "id": "k8dtwRupx0OD"
      }
    },
    {
      "cell_type": "code",
      "source": [
        "%%sql\n",
        "DROP TABLE IF EXISTS employee;\n",
        "CREATE TABLE \"employee\" (\n",
        "\t\"employee_id\"\tINTEGER,\t\t-- 従業員番号\n",
        "\t\"name\"\t\tTEXT NOT NULL,\t-- 氏名\n",
        "\t\"mail\"\t\tTEXT,\t\t-- メールアドレス\n",
        "\t\"hire_date\"\tDATE,\t\t-- 入社日\n",
        "\t\"salary\"\t\tINTEGER,\t\t-- 月給\n",
        "\t\"dept_id\"\tINTEGER,\t\t-- 所属部門番号\n",
        "\tPRIMARY KEY(\"employee_id\")\n",
        ");\n",
        "-- 従業員データ\n",
        "INSERT INTO employee VALUES(1,'梅津 玲那','umedu_rena@example.com','1987-07-03',452000,2);\n",
        "INSERT INTO employee VALUES(2,'米谷 朝陽','yoneya_asahi@example.com','1990-10-01',428280,3);\n",
        "INSERT INTO employee VALUES(3,'古田 沙知絵','furuta_sachie@example.com','1991-02-26',425320,4);\n",
        "INSERT INTO employee VALUES(4,'細川 ちえみ','hosokawa_chiemi@example.com','2002-11-25',339520,4);\n",
        "INSERT INTO employee VALUES(5,'宇田川 雅紀','utagawa_masanori@example.com','2002-12-28',338860,5);\n",
        "INSERT INTO employee VALUES(6,'柴山 恭子','shibayama_kyouko@example.com','2008-06-04',299160,3);\n",
        "INSERT INTO employee VALUES(7,'竹下 明日','takeshita_meibi@example.com','2019-08-12',217440,5);\n",
        "INSERT INTO employee VALUES(8,'下山 草太','shimoyama_souta@example.com','2021-01-02',207260,NULL);\n"
      ],
      "metadata": {
        "id": "Lx3URcYQxzwE"
      },
      "execution_count": null,
      "outputs": []
    },
    {
      "cell_type": "markdown",
      "source": [
        "**itemテーブル（商品表）**を作成"
      ],
      "metadata": {
        "id": "CKs6QkppSv_h"
      }
    },
    {
      "cell_type": "code",
      "source": [
        "%%sql\n",
        "DROP TABLE IF EXISTS item;\n",
        "CREATE TABLE \"item\" (\n",
        "\t\"item_id\"\tINTEGER,\t\t-- 商品番号\n",
        "\t\"name\"\t\tTEXT NOT NULL,\t-- 商品名\n",
        "\t\"price\"\t\tINTEGER,\t\t-- 価格\n",
        "\tPRIMARY KEY(\"item_id\")\n",
        ");\n",
        "-- 商品データ\n",
        "INSERT INTO \"item\" VALUES ('1', '４Ｋ液晶ＴＶ', '80000');\n",
        "INSERT INTO \"item\" VALUES ('2', '事務用電卓機', '6000');\n",
        "INSERT INTO \"item\" VALUES ('3', '室内用空清機', '29000');\n",
        "INSERT INTO \"item\" VALUES ('4', 'ノートナルプ', '70000');\n",
        "INSERT INTO \"item\" VALUES ('5', '一眼デジカメ', '65000');"
      ],
      "metadata": {
        "id": "9ZN5fheyS77Y"
      },
      "execution_count": null,
      "outputs": []
    },
    {
      "cell_type": "markdown",
      "source": [
        "**salesテーブル（取引表）**を作成"
      ],
      "metadata": {
        "id": "9tYnerg7TCmA"
      }
    },
    {
      "cell_type": "code",
      "source": [
        "%%sql\n",
        "DROP TABLE IF EXISTS sales;\n",
        "CREATE TABLE \"sales\" (\n",
        "\t\"sales_id\"\tINTEGER,\t\t\t-- 取引番号\n",
        "\t\"item_id\"\tINTEGER NOT NULL,\t-- 商品番号\n",
        "\t\"employee_id\"\tINTEGER,\t\t\t-- 従業員番号\n",
        "\t\"sales_date\"\tDATE,\t\t\t-- 取引日\n",
        "\tPRIMARY KEY(\"sales_id\")\n",
        ");\n",
        "-- 商品データ\n",
        "INSERT INTO \"sales\" VALUES (1,1,7,'2021-12-01');\n",
        "INSERT INTO \"sales\" VALUES (2,2,4,'2021-12-01');\n",
        "INSERT INTO \"sales\" VALUES (3,3,4,'2021-12-01');\n",
        "INSERT INTO \"sales\" VALUES (4,1,4,'2021-12-02');\n",
        "INSERT INTO \"sales\" VALUES (5,3,6,'2021-12-02');\n",
        "INSERT INTO \"sales\" VALUES (6,2,2,'2021-12-02');\n",
        "INSERT INTO \"sales\" VALUES (7,3,5,'2021-12-03');\n",
        "INSERT INTO \"sales\" VALUES (8,5,7,'2021-12-03');\n",
        "INSERT INTO \"sales\" VALUES (9,5,4,'2021-12-04');\n",
        "INSERT INTO \"sales\" VALUES (10,3,2,'2021-12-04');\n",
        "INSERT INTO \"sales\" VALUES (11,5,5,'2021-12-06');\n",
        "INSERT INTO \"sales\" VALUES (12,2,6,'2021-12-06');\n",
        "INSERT INTO \"sales\" VALUES (13,2,5,'2021-12-07');\n",
        "INSERT INTO \"sales\" VALUES (14,4,5,'2021-12-07');\n",
        "INSERT INTO \"sales\" VALUES (15,3,3,'2021-12-07');\n",
        "INSERT INTO \"sales\" VALUES (16,3,5,'2021-12-08');\n",
        "INSERT INTO \"sales\" VALUES (17,1,4,'2021-12-08');\n",
        "INSERT INTO \"sales\" VALUES (18,2,7,'2021-12-08');\n",
        "INSERT INTO \"sales\" VALUES (19,1,4,'2021-12-08');\n",
        "INSERT INTO \"sales\" VALUES (20,3,2,'2021-12-09');\n",
        "INSERT INTO \"sales\" VALUES (21,4,5,'2021-12-09');\n",
        "INSERT INTO \"sales\" VALUES (22,5,4,'2021-12-09');\n",
        "INSERT INTO \"sales\" VALUES (23,1,4,'2021-12-10');\n",
        "INSERT INTO \"sales\" VALUES (24,1,7,'2021-12-10');\n",
        "INSERT INTO \"sales\" VALUES (25,2,2,'2021-12-10');\n",
        "INSERT INTO \"sales\" VALUES (26,4,5,'2021-12-11');\n",
        "INSERT INTO \"sales\" VALUES (27,4,5,'2021-12-11');\n",
        "INSERT INTO \"sales\" VALUES (28,3,1,'2021-12-12');\n",
        "INSERT INTO \"sales\" VALUES (29,2,3,'2021-12-12');\n",
        "INSERT INTO \"sales\" VALUES (30,4,5,'2021-12-13');\n",
        "INSERT INTO \"sales\" VALUES (31,2,6,'2021-12-14');\n",
        "INSERT INTO \"sales\" VALUES (32,1,7,'2021-12-14');\n",
        "INSERT INTO \"sales\" VALUES (33,3,6,'2021-12-15');\n",
        "INSERT INTO \"sales\" VALUES (34,1,6,'2021-12-15');\n",
        "INSERT INTO \"sales\" VALUES (35,2,7,'2021-12-16');\n",
        "INSERT INTO \"sales\" VALUES (36,5,6,'2021-12-16');\n",
        "INSERT INTO \"sales\" VALUES (37,1,6,'2021-12-16');\n",
        "INSERT INTO \"sales\" VALUES (38,5,6,'2021-12-16');\n",
        "INSERT INTO \"sales\" VALUES (39,1,2,'2021-12-16');\n",
        "INSERT INTO \"sales\" VALUES (40,1,5,'2021-12-17');\n",
        "INSERT INTO \"sales\" VALUES (41,3,6,'2021-12-18');\n",
        "INSERT INTO \"sales\" VALUES (42,1,4,'2021-12-18');\n",
        "INSERT INTO \"sales\" VALUES (43,2,2,'2021-12-19');\n",
        "INSERT INTO \"sales\" VALUES (44,1,6,'2021-12-19');\n",
        "INSERT INTO \"sales\" VALUES (45,5,1,'2021-12-19');\n",
        "INSERT INTO \"sales\" VALUES (46,2,3,'2021-12-20');\n",
        "INSERT INTO \"sales\" VALUES (47,1,4,'2021-12-20');\n",
        "INSERT INTO \"sales\" VALUES (48,1,7,'2021-12-21');\n",
        "INSERT INTO \"sales\" VALUES (49,1,2,'2021-12-21');\n",
        "INSERT INTO \"sales\" VALUES (50,4,5,'2021-12-22');\n",
        "INSERT INTO \"sales\" VALUES (51,5,4,'2021-12-22');\n",
        "INSERT INTO \"sales\" VALUES (52,5,3,'2021-12-24');\n",
        "INSERT INTO \"sales\" VALUES (53,5,3,'2021-12-24');\n",
        "INSERT INTO \"sales\" VALUES (54,3,1,'2021-12-25');\n",
        "INSERT INTO \"sales\" VALUES (55,5,1,'2021-12-25');\n",
        "INSERT INTO \"sales\" VALUES (56,4,5,'2021-12-25');\n",
        "INSERT INTO \"sales\" VALUES (57,5,2,'2021-12-26');\n",
        "INSERT INTO \"sales\" VALUES (58,2,7,'2021-12-27');\n",
        "INSERT INTO \"sales\" VALUES (59,1,3,'2021-12-27');\n",
        "INSERT INTO \"sales\" VALUES (60,2,7,'2021-12-27');\n",
        "INSERT INTO \"sales\" VALUES (61,2,7,'2021-12-28');\n",
        "INSERT INTO \"sales\" VALUES (62,2,5,'2021-12-29');\n",
        "INSERT INTO \"sales\" VALUES (63,5,7,'2021-12-29');\n",
        "INSERT INTO \"sales\" VALUES (64,2,2,'2021-12-29');\n",
        "INSERT INTO \"sales\" VALUES (65,5,2,'2021-12-29');\n",
        "INSERT INTO \"sales\" VALUES (66,5,1,'2021-12-30');\n",
        "INSERT INTO \"sales\" VALUES (67,1,6,'2021-12-30');\n",
        "INSERT INTO \"sales\" VALUES (68,5,5,'2021-12-31');\n",
        "INSERT INTO \"sales\" VALUES (69,1,2,'2021-12-31');\n",
        "INSERT INTO \"sales\" VALUES (70,4,5,'2021-12-31');\n",
        "INSERT INTO \"sales\" VALUES (71,3,3,'2021-12-31');"
      ],
      "metadata": {
        "id": "E1f9ERFYTKpQ"
      },
      "execution_count": null,
      "outputs": []
    },
    {
      "cell_type": "markdown",
      "source": [
        "**演習１４**\n",
        "item表とsales表から、sales_dateが'2021-12-10'から'2021-12-11'の範囲内である行の商品名と取引日を照会"
      ],
      "metadata": {
        "id": "W6jI_bmGxzYj"
      }
    },
    {
      "cell_type": "code",
      "source": [
        "%%sql\n",
        "SELECT\n",
        "  item.name AS 商品名,\n",
        "  sales.sales_date AS 取引日\n",
        "FROM\n",
        "  sales\n",
        "    INNER JOIN\n",
        "  item\n",
        "ON\n",
        "  sales.item_id = item.item_id\n",
        "WHERE\n",
        "  sales.sales_date BETWEEN '2021-12-10' AND '2021-12-11'\n",
        ";"
      ],
      "metadata": {
        "id": "PWK1Kbe767vx"
      },
      "execution_count": null,
      "outputs": []
    },
    {
      "cell_type": "markdown",
      "source": [
        "**演習１５**\n",
        "item表、sales表、employee表から、sales_dateが'2021-12-10'から'2021-12-11'の範囲内である行の取引日、商品名、担当社員名を日付の昇順に照会"
      ],
      "metadata": {
        "id": "eqcSxwHR68Ew"
      }
    },
    {
      "cell_type": "code",
      "source": [
        "%%sql\n",
        "SELECT\n",
        "  sales.sales_date AS 取引日,\n",
        "  item.name AS 商品名,\n",
        "  employee.name AS 社員名\n",
        "FROM\n",
        "  sales\n",
        "INNER JOIN\n",
        "  item\n",
        "ON\n",
        "  sales.item_id = item.item_id\n",
        "INNER JOIN\n",
        "  employee\n",
        "ON\n",
        "  sales.employee_id = employee.employee_id\n",
        "WHERE\n",
        "  sales.sales_date BETWEEN '2021-12-10' AND '2021-12-11'\n",
        "ORDER BY sales.sales_date\n",
        ";\n"
      ],
      "metadata": {
        "id": "FbiOqmtM7Btf"
      },
      "execution_count": null,
      "outputs": []
    },
    {
      "cell_type": "markdown",
      "source": [
        "**演習１６**\n",
        "item表、sales表、employee表から、社員名(sales表のname属性）、商品名（item表のname属性）ごとに販売数（sales表）と売上高（sales表のitem_id属性の合計数）に照会"
      ],
      "metadata": {
        "id": "lwrsY_zt7bJq"
      }
    },
    {
      "cell_type": "code",
      "source": [
        "%%sql\n",
        "SELECT\n",
        "  employee.name AS 社員名,\n",
        "  item.name AS 商品名,\n",
        "  COUNT(*) AS 販売数,\n",
        "  SUM(item.price) AS 売上額\n",
        "FROM\n",
        "  sales\n",
        "INNER JOIN\n",
        "  item\n",
        "ON\n",
        "  sales.item_id = item.item_id\n",
        "INNER JOIN\n",
        "  employee\n",
        "ON\n",
        "  sales.employee_id = employee.employee_id\n",
        "GROUP BY\n",
        "  sales.employee_id, sales.item_id\n",
        ";"
      ],
      "metadata": {
        "id": "Pob7Xv1a7jAR"
      },
      "execution_count": null,
      "outputs": []
    },
    {
      "cell_type": "markdown",
      "source": [
        "**演習１７**\n",
        "item表、sales表、employee表から、社員名(sales表のname属性）ごとに販売数（sales表）と売上高（sales表のitem_id属性の合計数）を売上高の降順に照会"
      ],
      "metadata": {
        "id": "NbNDtn8t7m6I"
      }
    },
    {
      "cell_type": "code",
      "source": [
        "%%sql\n",
        "SELECT\n",
        "  employee.name AS 社員名,\n",
        "  COUNT(*) AS 販売数,\n",
        "  SUM(item.price) AS 売上額\n",
        "FROM\n",
        "  sales\n",
        "INNER JOIN\n",
        "  item\n",
        "ON\n",
        "  sales.item_id = item.item_id\n",
        "INNER JOIN\n",
        "  employee\n",
        "ON\n",
        "  sales.employee_id = employee.employee_id\n",
        "GROUP BY\n",
        "  sales.employee_id\n",
        "ORDER BY\n",
        "  SUM(item.price) DESC\n",
        ";"
      ],
      "metadata": {
        "id": "ie2FD3Lk7qrh"
      },
      "execution_count": null,
      "outputs": []
    }
  ]
}