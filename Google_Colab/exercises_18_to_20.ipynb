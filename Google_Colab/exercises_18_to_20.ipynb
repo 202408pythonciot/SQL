{
  "nbformat": 4,
  "nbformat_minor": 0,
  "metadata": {
    "colab": {
      "provenance": []
    },
    "kernelspec": {
      "name": "python3",
      "display_name": "Python 3"
    },
    "language_info": {
      "name": "python"
    }
  },
  "cells": [
    {
      "cell_type": "markdown",
      "source": [
        "# 演習１８～２０"
      ],
      "metadata": {
        "id": "3jAJnL75S0f0"
      }
    },
    {
      "cell_type": "markdown",
      "source": [
        "[Google Colaboratoryで開く](https://colab.research.google.com/github/202408pythonciot/SQL/blob/main/Google_Colab/exercises_18_to_20.ipynb)\n",
        "\n",
        "<a target=\"_blank\" href=\"https://colab.research.google.com/github/202408pythonciot/SQL/blob/main/Google_Colab/exercises_18_to_20.ipynb\">\n",
        "  <img src=\"https://colab.research.google.com/assets/colab-badge.svg\" alt=\"Open In Colab\"/>\n",
        "</a>"
      ],
      "metadata": {
        "id": "KY2wwzXiS5Ey"
      }
    },
    {
      "cell_type": "markdown",
      "source": [
        "**sqliteをロード**"
      ],
      "metadata": {
        "id": "KfIpyX3tst4v"
      }
    },
    {
      "cell_type": "code",
      "execution_count": null,
      "metadata": {
        "id": "nMEXbJEThkHI"
      },
      "outputs": [],
      "source": [
        "%reload_ext sql\n",
        "%sql sqlite:///:memory:\n"
      ]
    },
    {
      "cell_type": "markdown",
      "source": [
        "**employeeテーブル（従業員表）**を作成"
      ],
      "metadata": {
        "id": "XxEOGD7jsshW"
      }
    },
    {
      "cell_type": "code",
      "source": [
        "%%sql\n",
        "DROP TABLE IF EXISTS employee;\n",
        "CREATE TABLE \"employee\" (\n",
        "\t\"employee_id\"\tINTEGER,\t\t-- 従業員番号\n",
        "\t\"name\"\t\tTEXT NOT NULL,\t-- 氏名\n",
        "\t\"mail\"\t\tTEXT,\t\t-- メールアドレス\n",
        "\t\"hire_date\"\tDATE,\t\t-- 入社日\n",
        "\t\"salary\"\t\tINTEGER,\t\t-- 月給\n",
        "\t\"dept_id\"\tINTEGER,\t\t-- 所属部門番号\n",
        "\tPRIMARY KEY(\"employee_id\")\n",
        ");\n",
        "-- 従業員データ\n",
        "INSERT INTO employee VALUES(1,'梅津 玲那','umedu_rena@example.com','1987-07-03',452000,2);\n",
        "INSERT INTO employee VALUES(2,'米谷 朝陽','yoneya_asahi@example.com','1990-10-01',428280,3);\n",
        "INSERT INTO employee VALUES(3,'古田 沙知絵','furuta_sachie@example.com','1991-02-26',425320,4);\n",
        "INSERT INTO employee VALUES(4,'細川 ちえみ','hosokawa_chiemi@example.com','2002-11-25',339520,4);\n",
        "INSERT INTO employee VALUES(5,'宇田川 雅紀','utagawa_masanori@example.com','2002-12-28',338860,5);\n",
        "INSERT INTO employee VALUES(6,'柴山 恭子','shibayama_kyouko@example.com','2008-06-04',299160,3);\n",
        "INSERT INTO employee VALUES(7,'竹下 明日','takeshita_meibi@example.com','2019-08-12',217440,5);\n",
        "INSERT INTO employee VALUES(8,'下山 草太','shimoyama_souta@example.com','2021-01-02',207260,NULL);"
      ],
      "metadata": {
        "id": "OLE6t5oKtAhG",
        "colab": {
          "base_uri": "https://localhost:8080/"
        },
        "outputId": "bc7aa651-dcd7-4cd7-93c3-147d306557d9"
      },
      "execution_count": null,
      "outputs": [
        {
          "output_type": "stream",
          "name": "stdout",
          "text": [
            " * sqlite:///:memory:\n",
            "Done.\n",
            "Done.\n",
            "1 rows affected.\n",
            "1 rows affected.\n",
            "1 rows affected.\n",
            "1 rows affected.\n",
            "1 rows affected.\n",
            "1 rows affected.\n",
            "1 rows affected.\n",
            "1 rows affected.\n"
          ]
        },
        {
          "output_type": "execute_result",
          "data": {
            "text/plain": [
              "[]"
            ]
          },
          "metadata": {},
          "execution_count": 4
        }
      ]
    },
    {
      "cell_type": "markdown",
      "source": [
        "**演習１８**\n",
        "employee表に、従業員番号11として内田 康博さんを追加する。ただしメールアドレス、入社日、月給、所属部門は未定。\n",
        "\n"
      ],
      "metadata": {
        "id": "dZlyFU_rtLyq"
      }
    },
    {
      "cell_type": "code",
      "source": [
        "%%sql\n",
        "INSERT INTO employee(employee_id, name)\n",
        "VALUES (11,'内田 康博');"
      ],
      "metadata": {
        "id": "_ZEg8x9itRNG"
      },
      "execution_count": null,
      "outputs": []
    },
    {
      "cell_type": "code",
      "source": [
        "%%sql\n",
        "SELECT * FROM employee;"
      ],
      "metadata": {
        "id": "tI1en2SumFmR"
      },
      "execution_count": null,
      "outputs": []
    },
    {
      "cell_type": "markdown",
      "source": [
        "**演習１９**\n",
        "演習１８で追加した内田さんの所属部門番号を1、月給を200000としてデータを更新"
      ],
      "metadata": {
        "id": "NODMStmjtu72"
      }
    },
    {
      "cell_type": "code",
      "source": [
        "%%sql\n",
        "UPDATE employee\n",
        "SET\n",
        "  salary = 200000,\n",
        "  dept_id = 1\n",
        "WHERE employee_id = 11;"
      ],
      "metadata": {
        "id": "E1wBbAkVt5d4",
        "colab": {
          "base_uri": "https://localhost:8080/"
        },
        "outputId": "7f2e171c-cc7b-42af-fd98-fe5c6d74af82"
      },
      "execution_count": null,
      "outputs": [
        {
          "output_type": "stream",
          "name": "stdout",
          "text": [
            " * sqlite:///:memory:\n",
            "1 rows affected.\n"
          ]
        },
        {
          "output_type": "execute_result",
          "data": {
            "text/plain": [
              "[]"
            ]
          },
          "metadata": {},
          "execution_count": 7
        }
      ]
    },
    {
      "cell_type": "code",
      "source": [
        "%%sql\n",
        "SELECT * FROM employee;"
      ],
      "metadata": {
        "colab": {
          "base_uri": "https://localhost:8080/",
          "height": 269
        },
        "id": "1d_VJW8fmk0J",
        "outputId": "3f8841e4-a140-438e-96a4-f21593484ed2"
      },
      "execution_count": null,
      "outputs": [
        {
          "output_type": "stream",
          "name": "stdout",
          "text": [
            " * sqlite:///:memory:\n",
            "Done.\n"
          ]
        },
        {
          "output_type": "execute_result",
          "data": {
            "text/plain": [
              "[(1, '梅津 玲那', 'umedu_rena@example.com', '1987-07-03', 452000, 2),\n",
              " (2, '米谷 朝陽', 'yoneya_asahi@example.com', '1990-10-01', 428280, 3),\n",
              " (3, '古田 沙知絵', 'furuta_sachie@example.com', '1991-02-26', 425320, 4),\n",
              " (4, '細川 ちえみ', 'hosokawa_chiemi@example.com', '2002-11-25', 339520, 4),\n",
              " (5, '宇田川 雅紀', 'utagawa_masanori@example.com', '2002-12-28', 338860, 5),\n",
              " (6, '柴山 恭子', 'shibayama_kyouko@example.com', '2008-06-04', 299160, 3),\n",
              " (7, '竹下 明日', 'takeshita_meibi@example.com', '2019-08-12', 217440, 5),\n",
              " (8, '下山 草太', 'shimoyama_souta@example.com', '2021-01-02', 207260, None),\n",
              " (11, '内田 康博', None, None, 200000, 1)]"
            ],
            "text/html": [
              "<table>\n",
              "    <thead>\n",
              "        <tr>\n",
              "            <th>employee_id</th>\n",
              "            <th>name</th>\n",
              "            <th>mail</th>\n",
              "            <th>hire_date</th>\n",
              "            <th>salary</th>\n",
              "            <th>dept_id</th>\n",
              "        </tr>\n",
              "    </thead>\n",
              "    <tbody>\n",
              "        <tr>\n",
              "            <td>1</td>\n",
              "            <td>梅津 玲那</td>\n",
              "            <td>umedu_rena@example.com</td>\n",
              "            <td>1987-07-03</td>\n",
              "            <td>452000</td>\n",
              "            <td>2</td>\n",
              "        </tr>\n",
              "        <tr>\n",
              "            <td>2</td>\n",
              "            <td>米谷 朝陽</td>\n",
              "            <td>yoneya_asahi@example.com</td>\n",
              "            <td>1990-10-01</td>\n",
              "            <td>428280</td>\n",
              "            <td>3</td>\n",
              "        </tr>\n",
              "        <tr>\n",
              "            <td>3</td>\n",
              "            <td>古田 沙知絵</td>\n",
              "            <td>furuta_sachie@example.com</td>\n",
              "            <td>1991-02-26</td>\n",
              "            <td>425320</td>\n",
              "            <td>4</td>\n",
              "        </tr>\n",
              "        <tr>\n",
              "            <td>4</td>\n",
              "            <td>細川 ちえみ</td>\n",
              "            <td>hosokawa_chiemi@example.com</td>\n",
              "            <td>2002-11-25</td>\n",
              "            <td>339520</td>\n",
              "            <td>4</td>\n",
              "        </tr>\n",
              "        <tr>\n",
              "            <td>5</td>\n",
              "            <td>宇田川 雅紀</td>\n",
              "            <td>utagawa_masanori@example.com</td>\n",
              "            <td>2002-12-28</td>\n",
              "            <td>338860</td>\n",
              "            <td>5</td>\n",
              "        </tr>\n",
              "        <tr>\n",
              "            <td>6</td>\n",
              "            <td>柴山 恭子</td>\n",
              "            <td>shibayama_kyouko@example.com</td>\n",
              "            <td>2008-06-04</td>\n",
              "            <td>299160</td>\n",
              "            <td>3</td>\n",
              "        </tr>\n",
              "        <tr>\n",
              "            <td>7</td>\n",
              "            <td>竹下 明日</td>\n",
              "            <td>takeshita_meibi@example.com</td>\n",
              "            <td>2019-08-12</td>\n",
              "            <td>217440</td>\n",
              "            <td>5</td>\n",
              "        </tr>\n",
              "        <tr>\n",
              "            <td>8</td>\n",
              "            <td>下山 草太</td>\n",
              "            <td>shimoyama_souta@example.com</td>\n",
              "            <td>2021-01-02</td>\n",
              "            <td>207260</td>\n",
              "            <td>None</td>\n",
              "        </tr>\n",
              "        <tr>\n",
              "            <td>11</td>\n",
              "            <td>内田 康博</td>\n",
              "            <td>None</td>\n",
              "            <td>None</td>\n",
              "            <td>200000</td>\n",
              "            <td>1</td>\n",
              "        </tr>\n",
              "    </tbody>\n",
              "</table>"
            ]
          },
          "metadata": {},
          "execution_count": 8
        }
      ]
    },
    {
      "cell_type": "markdown",
      "source": [
        "**演習２０**\n",
        "演習１８で追加した内田さんを削除"
      ],
      "metadata": {
        "id": "gBa4cwtruAJX"
      }
    },
    {
      "cell_type": "code",
      "source": [
        "%%sql\n",
        "DELETE FROM employee WHERE employee_id = 11;"
      ],
      "metadata": {
        "id": "5e_mXrKxuIKw"
      },
      "execution_count": null,
      "outputs": []
    }
  ]
}